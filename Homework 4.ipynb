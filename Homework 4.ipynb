{
 "cells": [
  {
   "cell_type": "markdown",
   "id": "8ccca136-a4ad-4d35-a5c5-22cef8e236eb",
   "metadata": {},
   "source": [
    "# Homework4"
   ]
  },
  {
   "cell_type": "code",
   "execution_count": 45,
   "id": "b0efd918-0d83-44a2-8f1f-7d8c7da68126",
   "metadata": {},
   "outputs": [],
   "source": [
    "# import libraries\n",
    "import pandas as pd\n",
    "from sklearn.impute import SimpleImputer\n",
    "from sklearn.preprocessing import StandardScaler\n",
    "from sklearn.cluster import AgglomerativeClustering\n",
    "from sklearn.cluster import KMeans\n",
    "from sklearn.metrics import silhouette_score,homogeneity_score, completeness_score\n",
    "import matplotlib.pyplot as plt\n",
    "from sklearn.datasets import load_wine"
   ]
  },
  {
   "cell_type": "markdown",
   "id": "67173d25-cb6a-42d6-9350-d5d3d77237bf",
   "metadata": {},
   "source": [
    "## Problem 1"
   ]
  },
  {
   "cell_type": "code",
   "execution_count": 46,
   "id": "70da9af8-607b-420f-a868-fd5512fda05d",
   "metadata": {},
   "outputs": [
    {
     "name": "stderr",
     "output_type": "stream",
     "text": [
      "C:\\Users\\Administrator\\AppData\\Local\\Temp\\ipykernel_1564\\2313689614.py:4: FutureWarning: The 'delim_whitespace' keyword in pd.read_csv is deprecated and will be removed in a future version. Use ``sep='\\s+'`` instead\n",
      "  df = pd.read_csv(url, delim_whitespace=True, names=column_names, na_values='?')\n"
     ]
    }
   ],
   "source": [
    "# import dataset\n",
    "column_names = ['mpg', 'cylinders', 'displacement', 'horsepower', 'weight', 'acceleration', 'model_year', 'origin', 'car_name']\n",
    "url = 'https://archive.ics.uci.edu/ml/machine-learning-databases/auto-mpg/auto-mpg.data'\n",
    "df = pd.read_csv(url, delim_whitespace=True, names=column_names, na_values='?')"
   ]
  },
  {
   "cell_type": "code",
   "execution_count": 47,
   "id": "0907c25b-8c48-40db-b33b-fdb34af177d3",
   "metadata": {},
   "outputs": [
    {
     "data": {
      "text/html": [
       "<div>\n",
       "<style scoped>\n",
       "    .dataframe tbody tr th:only-of-type {\n",
       "        vertical-align: middle;\n",
       "    }\n",
       "\n",
       "    .dataframe tbody tr th {\n",
       "        vertical-align: top;\n",
       "    }\n",
       "\n",
       "    .dataframe thead th {\n",
       "        text-align: right;\n",
       "    }\n",
       "</style>\n",
       "<table border=\"1\" class=\"dataframe\">\n",
       "  <thead>\n",
       "    <tr style=\"text-align: right;\">\n",
       "      <th></th>\n",
       "      <th>mpg</th>\n",
       "      <th>cylinders</th>\n",
       "      <th>displacement</th>\n",
       "      <th>horsepower</th>\n",
       "      <th>weight</th>\n",
       "      <th>acceleration</th>\n",
       "      <th>model_year</th>\n",
       "      <th>origin</th>\n",
       "      <th>car_name</th>\n",
       "    </tr>\n",
       "  </thead>\n",
       "  <tbody>\n",
       "    <tr>\n",
       "      <th>0</th>\n",
       "      <td>18.0</td>\n",
       "      <td>8</td>\n",
       "      <td>307.0</td>\n",
       "      <td>130.0</td>\n",
       "      <td>3504.0</td>\n",
       "      <td>12.0</td>\n",
       "      <td>70</td>\n",
       "      <td>1</td>\n",
       "      <td>chevrolet chevelle malibu</td>\n",
       "    </tr>\n",
       "    <tr>\n",
       "      <th>1</th>\n",
       "      <td>15.0</td>\n",
       "      <td>8</td>\n",
       "      <td>350.0</td>\n",
       "      <td>165.0</td>\n",
       "      <td>3693.0</td>\n",
       "      <td>11.5</td>\n",
       "      <td>70</td>\n",
       "      <td>1</td>\n",
       "      <td>buick skylark 320</td>\n",
       "    </tr>\n",
       "    <tr>\n",
       "      <th>2</th>\n",
       "      <td>18.0</td>\n",
       "      <td>8</td>\n",
       "      <td>318.0</td>\n",
       "      <td>150.0</td>\n",
       "      <td>3436.0</td>\n",
       "      <td>11.0</td>\n",
       "      <td>70</td>\n",
       "      <td>1</td>\n",
       "      <td>plymouth satellite</td>\n",
       "    </tr>\n",
       "    <tr>\n",
       "      <th>3</th>\n",
       "      <td>16.0</td>\n",
       "      <td>8</td>\n",
       "      <td>304.0</td>\n",
       "      <td>150.0</td>\n",
       "      <td>3433.0</td>\n",
       "      <td>12.0</td>\n",
       "      <td>70</td>\n",
       "      <td>1</td>\n",
       "      <td>amc rebel sst</td>\n",
       "    </tr>\n",
       "    <tr>\n",
       "      <th>4</th>\n",
       "      <td>17.0</td>\n",
       "      <td>8</td>\n",
       "      <td>302.0</td>\n",
       "      <td>140.0</td>\n",
       "      <td>3449.0</td>\n",
       "      <td>10.5</td>\n",
       "      <td>70</td>\n",
       "      <td>1</td>\n",
       "      <td>ford torino</td>\n",
       "    </tr>\n",
       "  </tbody>\n",
       "</table>\n",
       "</div>"
      ],
      "text/plain": [
       "    mpg  cylinders  displacement  horsepower  weight  acceleration  \\\n",
       "0  18.0          8         307.0       130.0  3504.0          12.0   \n",
       "1  15.0          8         350.0       165.0  3693.0          11.5   \n",
       "2  18.0          8         318.0       150.0  3436.0          11.0   \n",
       "3  16.0          8         304.0       150.0  3433.0          12.0   \n",
       "4  17.0          8         302.0       140.0  3449.0          10.5   \n",
       "\n",
       "   model_year  origin                   car_name  \n",
       "0          70       1  chevrolet chevelle malibu  \n",
       "1          70       1          buick skylark 320  \n",
       "2          70       1         plymouth satellite  \n",
       "3          70       1              amc rebel sst  \n",
       "4          70       1                ford torino  "
      ]
     },
     "execution_count": 47,
     "metadata": {},
     "output_type": "execute_result"
    }
   ],
   "source": [
    "df.head()"
   ]
  },
  {
   "cell_type": "code",
   "execution_count": 48,
   "id": "1761a298-b568-4677-b784-adc1612aeed2",
   "metadata": {},
   "outputs": [
    {
     "name": "stdout",
     "output_type": "stream",
     "text": [
      "<class 'pandas.core.frame.DataFrame'>\n",
      "RangeIndex: 398 entries, 0 to 397\n",
      "Data columns (total 9 columns):\n",
      " #   Column        Non-Null Count  Dtype  \n",
      "---  ------        --------------  -----  \n",
      " 0   mpg           398 non-null    float64\n",
      " 1   cylinders     398 non-null    int64  \n",
      " 2   displacement  398 non-null    float64\n",
      " 3   horsepower    392 non-null    float64\n",
      " 4   weight        398 non-null    float64\n",
      " 5   acceleration  398 non-null    float64\n",
      " 6   model_year    398 non-null    int64  \n",
      " 7   origin        398 non-null    int64  \n",
      " 8   car_name      398 non-null    object \n",
      "dtypes: float64(5), int64(3), object(1)\n",
      "memory usage: 28.1+ KB\n"
     ]
    }
   ],
   "source": [
    "df.info()"
   ]
  },
  {
   "cell_type": "code",
   "execution_count": 49,
   "id": "7b778ef7-5339-42ea-9233-fe50de80b0da",
   "metadata": {},
   "outputs": [],
   "source": [
    "# Use only the continuous fields as features\n",
    "continuous_cols = ['mpg', 'displacement', 'horsepower', 'weight', 'acceleration']\n",
    "df_cont = df[continuous_cols]"
   ]
  },
  {
   "cell_type": "code",
   "execution_count": 50,
   "id": "711da4e3-b73d-4804-8e63-571a491fa077",
   "metadata": {},
   "outputs": [
    {
     "data": {
      "text/html": [
       "<div>\n",
       "<style scoped>\n",
       "    .dataframe tbody tr th:only-of-type {\n",
       "        vertical-align: middle;\n",
       "    }\n",
       "\n",
       "    .dataframe tbody tr th {\n",
       "        vertical-align: top;\n",
       "    }\n",
       "\n",
       "    .dataframe thead th {\n",
       "        text-align: right;\n",
       "    }\n",
       "</style>\n",
       "<table border=\"1\" class=\"dataframe\">\n",
       "  <thead>\n",
       "    <tr style=\"text-align: right;\">\n",
       "      <th></th>\n",
       "      <th>mpg</th>\n",
       "      <th>displacement</th>\n",
       "      <th>horsepower</th>\n",
       "      <th>weight</th>\n",
       "      <th>acceleration</th>\n",
       "    </tr>\n",
       "  </thead>\n",
       "  <tbody>\n",
       "    <tr>\n",
       "      <th>0</th>\n",
       "      <td>18.0</td>\n",
       "      <td>307.0</td>\n",
       "      <td>130.0</td>\n",
       "      <td>3504.0</td>\n",
       "      <td>12.0</td>\n",
       "    </tr>\n",
       "    <tr>\n",
       "      <th>1</th>\n",
       "      <td>15.0</td>\n",
       "      <td>350.0</td>\n",
       "      <td>165.0</td>\n",
       "      <td>3693.0</td>\n",
       "      <td>11.5</td>\n",
       "    </tr>\n",
       "    <tr>\n",
       "      <th>2</th>\n",
       "      <td>18.0</td>\n",
       "      <td>318.0</td>\n",
       "      <td>150.0</td>\n",
       "      <td>3436.0</td>\n",
       "      <td>11.0</td>\n",
       "    </tr>\n",
       "    <tr>\n",
       "      <th>3</th>\n",
       "      <td>16.0</td>\n",
       "      <td>304.0</td>\n",
       "      <td>150.0</td>\n",
       "      <td>3433.0</td>\n",
       "      <td>12.0</td>\n",
       "    </tr>\n",
       "    <tr>\n",
       "      <th>4</th>\n",
       "      <td>17.0</td>\n",
       "      <td>302.0</td>\n",
       "      <td>140.0</td>\n",
       "      <td>3449.0</td>\n",
       "      <td>10.5</td>\n",
       "    </tr>\n",
       "  </tbody>\n",
       "</table>\n",
       "</div>"
      ],
      "text/plain": [
       "    mpg  displacement  horsepower  weight  acceleration\n",
       "0  18.0         307.0       130.0  3504.0          12.0\n",
       "1  15.0         350.0       165.0  3693.0          11.5\n",
       "2  18.0         318.0       150.0  3436.0          11.0\n",
       "3  16.0         304.0       150.0  3433.0          12.0\n",
       "4  17.0         302.0       140.0  3449.0          10.5"
      ]
     },
     "execution_count": 50,
     "metadata": {},
     "output_type": "execute_result"
    }
   ],
   "source": [
    "df_cont.head()"
   ]
  },
  {
   "cell_type": "code",
   "execution_count": 51,
   "id": "34ab4d03-ff1b-413f-8797-3fa2fcd7f7d8",
   "metadata": {},
   "outputs": [
    {
     "name": "stdout",
     "output_type": "stream",
     "text": [
      "<class 'pandas.core.frame.DataFrame'>\n",
      "RangeIndex: 398 entries, 0 to 397\n",
      "Data columns (total 5 columns):\n",
      " #   Column        Non-Null Count  Dtype  \n",
      "---  ------        --------------  -----  \n",
      " 0   mpg           398 non-null    float64\n",
      " 1   displacement  398 non-null    float64\n",
      " 2   horsepower    392 non-null    float64\n",
      " 3   weight        398 non-null    float64\n",
      " 4   acceleration  398 non-null    float64\n",
      "dtypes: float64(5)\n",
      "memory usage: 15.7 KB\n"
     ]
    }
   ],
   "source": [
    "df_cont.info()"
   ]
  },
  {
   "cell_type": "code",
   "execution_count": 52,
   "id": "3ff07b01-56f2-415a-8427-a45b9401f63e",
   "metadata": {},
   "outputs": [],
   "source": [
    "# impute missing values with mean\n",
    "imputer = SimpleImputer(strategy='mean')\n",
    "df_cont_imputed = pd.DataFrame(imputer.fit_transform(df_cont), columns=continuous_cols)"
   ]
  },
  {
   "cell_type": "code",
   "execution_count": 53,
   "id": "2d9e0528-01fa-42b6-9d73-b8480ca13d31",
   "metadata": {},
   "outputs": [],
   "source": [
    "# standardize data (recommended for clustering)\n",
    "scaler = StandardScaler()\n",
    "df_scaled = scaler.fit_transform(df_cont_imputed)"
   ]
  },
  {
   "cell_type": "code",
   "execution_count": 54,
   "id": "077c542a-0ea2-4cf7-9a5d-e77ff077a6ec",
   "metadata": {},
   "outputs": [],
   "source": [
    "# perform Hierarchical Clustering\n",
    "clustering = AgglomerativeClustering(n_clusters=3, linkage='average', metric='euclidean')\n",
    "cluster_labels = clustering.fit_predict(df_scaled)\n",
    "df['hierarchical_cluster'] = cluster_labels"
   ]
  },
  {
   "cell_type": "code",
   "execution_count": 55,
   "id": "206445fe-69a0-43be-90fb-10589e0e792e",
   "metadata": {},
   "outputs": [
    {
     "name": "stdout",
     "output_type": "stream",
     "text": [
      "Hierarchical Cluster Stats:\n",
      "                            mpg            displacement               \\\n",
      "                           mean        var         mean          var   \n",
      "hierarchical_cluster                                                   \n",
      "0                     26.177441  41.303375   144.304714  3511.485383   \n",
      "1                     14.528866   4.771033   348.020619  2089.499570   \n",
      "2                     43.700000   0.300000    91.750000    12.250000   \n",
      "\n",
      "                      horsepower                   weight                 \\\n",
      "                            mean         var         mean            var   \n",
      "hierarchical_cluster                                                       \n",
      "0                      86.120275  294.554450  2598.414141  299118.709664   \n",
      "1                     161.804124  674.075816  4143.969072  193847.051117   \n",
      "2                      49.000000    4.000000  2133.750000   21672.916667   \n",
      "\n",
      "                     acceleration            \n",
      "                             mean       var  \n",
      "hierarchical_cluster                         \n",
      "0                       16.425589  4.875221  \n",
      "1                       12.641237  3.189948  \n",
      "2                       22.875000  2.309167  \n",
      "\n",
      "Origin Class Stats:\n",
      "              mpg            displacement               horsepower  \\\n",
      "             mean        var         mean          var        mean   \n",
      "origin                                                               \n",
      "1       20.083534  40.997026   245.901606  9702.612255  119.048980   \n",
      "2       27.891429  45.211230   109.142857   509.950311   80.558824   \n",
      "3       30.450633  37.088685   102.708861   535.465433   79.835443   \n",
      "\n",
      "                          weight                acceleration            \n",
      "                var         mean            var         mean       var  \n",
      "origin                                                                  \n",
      "1       1591.833657  3361.931727  631695.128385    15.033735  7.568615  \n",
      "2        406.339772  2423.300000  240142.328986    16.787143  9.276209  \n",
      "3        317.523856  2221.227848  102718.485881    16.172152  3.821779  \n"
     ]
    }
   ],
   "source": [
    "# Cluster statistics\n",
    "print(\"Hierarchical Cluster Stats:\")\n",
    "print(df.groupby('hierarchical_cluster')[continuous_cols].agg(['mean', 'var']))\n",
    "\n",
    "print(\"\\nOrigin Class Stats:\")\n",
    "print(df.groupby('origin')[continuous_cols].agg(['mean', 'var']))"
   ]
  },
  {
   "cell_type": "code",
   "execution_count": 56,
   "id": "d2556e4f-56d1-4a6f-86c3-b38a1523fe22",
   "metadata": {},
   "outputs": [
    {
     "name": "stdout",
     "output_type": "stream",
     "text": [
      "Hierarchical vs Origin:\n",
      " hierarchical_cluster    0   1  2\n",
      "origin                          \n",
      "1                     152  97  0\n",
      "2                      66   0  4\n",
      "3                      79   0  0\n"
     ]
    }
   ],
   "source": [
    "# compare cluster with origin label\n",
    "print(\"Hierarchical vs Origin:\\n\", pd.crosstab(df['origin'], df['hierarchical_cluster']))"
   ]
  },
  {
   "cell_type": "markdown",
   "id": "b248a1ef-58b6-414c-96e1-758664bf6cb5",
   "metadata": {},
   "source": [
    "## Problem 2"
   ]
  },
  {
   "cell_type": "code",
   "execution_count": 57,
   "id": "494da570-0cc6-4ee0-996b-8c44b277063f",
   "metadata": {},
   "outputs": [],
   "source": [
    "# import dataset\n",
    "df = pd.read_csv('Boston.csv')"
   ]
  },
  {
   "cell_type": "code",
   "execution_count": 58,
   "id": "b4e6aa86-cb1b-43fc-a7f7-d911106cee9f",
   "metadata": {},
   "outputs": [
    {
     "data": {
      "text/html": [
       "<div>\n",
       "<style scoped>\n",
       "    .dataframe tbody tr th:only-of-type {\n",
       "        vertical-align: middle;\n",
       "    }\n",
       "\n",
       "    .dataframe tbody tr th {\n",
       "        vertical-align: top;\n",
       "    }\n",
       "\n",
       "    .dataframe thead th {\n",
       "        text-align: right;\n",
       "    }\n",
       "</style>\n",
       "<table border=\"1\" class=\"dataframe\">\n",
       "  <thead>\n",
       "    <tr style=\"text-align: right;\">\n",
       "      <th></th>\n",
       "      <th>Unnamed: 0</th>\n",
       "      <th>crim</th>\n",
       "      <th>zn</th>\n",
       "      <th>indus</th>\n",
       "      <th>chas</th>\n",
       "      <th>nox</th>\n",
       "      <th>rm</th>\n",
       "      <th>age</th>\n",
       "      <th>dis</th>\n",
       "      <th>rad</th>\n",
       "      <th>tax</th>\n",
       "      <th>ptratio</th>\n",
       "      <th>b</th>\n",
       "      <th>lstat</th>\n",
       "      <th>medv</th>\n",
       "    </tr>\n",
       "  </thead>\n",
       "  <tbody>\n",
       "    <tr>\n",
       "      <th>0</th>\n",
       "      <td>1</td>\n",
       "      <td>0.00632</td>\n",
       "      <td>18.0</td>\n",
       "      <td>2.31</td>\n",
       "      <td>0</td>\n",
       "      <td>0.538</td>\n",
       "      <td>6.575</td>\n",
       "      <td>65.2</td>\n",
       "      <td>4.0900</td>\n",
       "      <td>1</td>\n",
       "      <td>296</td>\n",
       "      <td>15.3</td>\n",
       "      <td>396.90</td>\n",
       "      <td>4.98</td>\n",
       "      <td>24.0</td>\n",
       "    </tr>\n",
       "    <tr>\n",
       "      <th>1</th>\n",
       "      <td>2</td>\n",
       "      <td>0.02731</td>\n",
       "      <td>0.0</td>\n",
       "      <td>7.07</td>\n",
       "      <td>0</td>\n",
       "      <td>0.469</td>\n",
       "      <td>6.421</td>\n",
       "      <td>78.9</td>\n",
       "      <td>4.9671</td>\n",
       "      <td>2</td>\n",
       "      <td>242</td>\n",
       "      <td>17.8</td>\n",
       "      <td>396.90</td>\n",
       "      <td>9.14</td>\n",
       "      <td>21.6</td>\n",
       "    </tr>\n",
       "    <tr>\n",
       "      <th>2</th>\n",
       "      <td>3</td>\n",
       "      <td>0.02729</td>\n",
       "      <td>0.0</td>\n",
       "      <td>7.07</td>\n",
       "      <td>0</td>\n",
       "      <td>0.469</td>\n",
       "      <td>7.185</td>\n",
       "      <td>61.1</td>\n",
       "      <td>4.9671</td>\n",
       "      <td>2</td>\n",
       "      <td>242</td>\n",
       "      <td>17.8</td>\n",
       "      <td>392.83</td>\n",
       "      <td>4.03</td>\n",
       "      <td>34.7</td>\n",
       "    </tr>\n",
       "    <tr>\n",
       "      <th>3</th>\n",
       "      <td>4</td>\n",
       "      <td>0.03237</td>\n",
       "      <td>0.0</td>\n",
       "      <td>2.18</td>\n",
       "      <td>0</td>\n",
       "      <td>0.458</td>\n",
       "      <td>6.998</td>\n",
       "      <td>45.8</td>\n",
       "      <td>6.0622</td>\n",
       "      <td>3</td>\n",
       "      <td>222</td>\n",
       "      <td>18.7</td>\n",
       "      <td>394.63</td>\n",
       "      <td>2.94</td>\n",
       "      <td>33.4</td>\n",
       "    </tr>\n",
       "    <tr>\n",
       "      <th>4</th>\n",
       "      <td>5</td>\n",
       "      <td>0.06905</td>\n",
       "      <td>0.0</td>\n",
       "      <td>2.18</td>\n",
       "      <td>0</td>\n",
       "      <td>0.458</td>\n",
       "      <td>7.147</td>\n",
       "      <td>54.2</td>\n",
       "      <td>6.0622</td>\n",
       "      <td>3</td>\n",
       "      <td>222</td>\n",
       "      <td>18.7</td>\n",
       "      <td>396.90</td>\n",
       "      <td>5.33</td>\n",
       "      <td>36.2</td>\n",
       "    </tr>\n",
       "  </tbody>\n",
       "</table>\n",
       "</div>"
      ],
      "text/plain": [
       "   Unnamed: 0     crim    zn  indus  chas    nox     rm   age     dis  rad  \\\n",
       "0           1  0.00632  18.0   2.31     0  0.538  6.575  65.2  4.0900    1   \n",
       "1           2  0.02731   0.0   7.07     0  0.469  6.421  78.9  4.9671    2   \n",
       "2           3  0.02729   0.0   7.07     0  0.469  7.185  61.1  4.9671    2   \n",
       "3           4  0.03237   0.0   2.18     0  0.458  6.998  45.8  6.0622    3   \n",
       "4           5  0.06905   0.0   2.18     0  0.458  7.147  54.2  6.0622    3   \n",
       "\n",
       "   tax  ptratio       b  lstat  medv  \n",
       "0  296     15.3  396.90   4.98  24.0  \n",
       "1  242     17.8  396.90   9.14  21.6  \n",
       "2  242     17.8  392.83   4.03  34.7  \n",
       "3  222     18.7  394.63   2.94  33.4  \n",
       "4  222     18.7  396.90   5.33  36.2  "
      ]
     },
     "execution_count": 58,
     "metadata": {},
     "output_type": "execute_result"
    }
   ],
   "source": [
    "df.head()"
   ]
  },
  {
   "cell_type": "code",
   "execution_count": 59,
   "id": "bdbef8b9-650e-40b4-a906-7bfaea9fe7bb",
   "metadata": {},
   "outputs": [],
   "source": [
    "# delete Unnamed: 0\n",
    "df = df.drop(columns=['Unnamed: 0'])"
   ]
  },
  {
   "cell_type": "code",
   "execution_count": 60,
   "id": "fc0de80f-6bd5-4919-a172-20edf3980ce1",
   "metadata": {},
   "outputs": [
    {
     "data": {
      "text/html": [
       "<div>\n",
       "<style scoped>\n",
       "    .dataframe tbody tr th:only-of-type {\n",
       "        vertical-align: middle;\n",
       "    }\n",
       "\n",
       "    .dataframe tbody tr th {\n",
       "        vertical-align: top;\n",
       "    }\n",
       "\n",
       "    .dataframe thead th {\n",
       "        text-align: right;\n",
       "    }\n",
       "</style>\n",
       "<table border=\"1\" class=\"dataframe\">\n",
       "  <thead>\n",
       "    <tr style=\"text-align: right;\">\n",
       "      <th></th>\n",
       "      <th>crim</th>\n",
       "      <th>zn</th>\n",
       "      <th>indus</th>\n",
       "      <th>chas</th>\n",
       "      <th>nox</th>\n",
       "      <th>rm</th>\n",
       "      <th>age</th>\n",
       "      <th>dis</th>\n",
       "      <th>rad</th>\n",
       "      <th>tax</th>\n",
       "      <th>ptratio</th>\n",
       "      <th>b</th>\n",
       "      <th>lstat</th>\n",
       "      <th>medv</th>\n",
       "    </tr>\n",
       "  </thead>\n",
       "  <tbody>\n",
       "    <tr>\n",
       "      <th>0</th>\n",
       "      <td>0.00632</td>\n",
       "      <td>18.0</td>\n",
       "      <td>2.31</td>\n",
       "      <td>0</td>\n",
       "      <td>0.538</td>\n",
       "      <td>6.575</td>\n",
       "      <td>65.2</td>\n",
       "      <td>4.0900</td>\n",
       "      <td>1</td>\n",
       "      <td>296</td>\n",
       "      <td>15.3</td>\n",
       "      <td>396.90</td>\n",
       "      <td>4.98</td>\n",
       "      <td>24.0</td>\n",
       "    </tr>\n",
       "    <tr>\n",
       "      <th>1</th>\n",
       "      <td>0.02731</td>\n",
       "      <td>0.0</td>\n",
       "      <td>7.07</td>\n",
       "      <td>0</td>\n",
       "      <td>0.469</td>\n",
       "      <td>6.421</td>\n",
       "      <td>78.9</td>\n",
       "      <td>4.9671</td>\n",
       "      <td>2</td>\n",
       "      <td>242</td>\n",
       "      <td>17.8</td>\n",
       "      <td>396.90</td>\n",
       "      <td>9.14</td>\n",
       "      <td>21.6</td>\n",
       "    </tr>\n",
       "    <tr>\n",
       "      <th>2</th>\n",
       "      <td>0.02729</td>\n",
       "      <td>0.0</td>\n",
       "      <td>7.07</td>\n",
       "      <td>0</td>\n",
       "      <td>0.469</td>\n",
       "      <td>7.185</td>\n",
       "      <td>61.1</td>\n",
       "      <td>4.9671</td>\n",
       "      <td>2</td>\n",
       "      <td>242</td>\n",
       "      <td>17.8</td>\n",
       "      <td>392.83</td>\n",
       "      <td>4.03</td>\n",
       "      <td>34.7</td>\n",
       "    </tr>\n",
       "    <tr>\n",
       "      <th>3</th>\n",
       "      <td>0.03237</td>\n",
       "      <td>0.0</td>\n",
       "      <td>2.18</td>\n",
       "      <td>0</td>\n",
       "      <td>0.458</td>\n",
       "      <td>6.998</td>\n",
       "      <td>45.8</td>\n",
       "      <td>6.0622</td>\n",
       "      <td>3</td>\n",
       "      <td>222</td>\n",
       "      <td>18.7</td>\n",
       "      <td>394.63</td>\n",
       "      <td>2.94</td>\n",
       "      <td>33.4</td>\n",
       "    </tr>\n",
       "    <tr>\n",
       "      <th>4</th>\n",
       "      <td>0.06905</td>\n",
       "      <td>0.0</td>\n",
       "      <td>2.18</td>\n",
       "      <td>0</td>\n",
       "      <td>0.458</td>\n",
       "      <td>7.147</td>\n",
       "      <td>54.2</td>\n",
       "      <td>6.0622</td>\n",
       "      <td>3</td>\n",
       "      <td>222</td>\n",
       "      <td>18.7</td>\n",
       "      <td>396.90</td>\n",
       "      <td>5.33</td>\n",
       "      <td>36.2</td>\n",
       "    </tr>\n",
       "  </tbody>\n",
       "</table>\n",
       "</div>"
      ],
      "text/plain": [
       "      crim    zn  indus  chas    nox     rm   age     dis  rad  tax  ptratio  \\\n",
       "0  0.00632  18.0   2.31     0  0.538  6.575  65.2  4.0900    1  296     15.3   \n",
       "1  0.02731   0.0   7.07     0  0.469  6.421  78.9  4.9671    2  242     17.8   \n",
       "2  0.02729   0.0   7.07     0  0.469  7.185  61.1  4.9671    2  242     17.8   \n",
       "3  0.03237   0.0   2.18     0  0.458  6.998  45.8  6.0622    3  222     18.7   \n",
       "4  0.06905   0.0   2.18     0  0.458  7.147  54.2  6.0622    3  222     18.7   \n",
       "\n",
       "        b  lstat  medv  \n",
       "0  396.90   4.98  24.0  \n",
       "1  396.90   9.14  21.6  \n",
       "2  392.83   4.03  34.7  \n",
       "3  394.63   2.94  33.4  \n",
       "4  396.90   5.33  36.2  "
      ]
     },
     "execution_count": 60,
     "metadata": {},
     "output_type": "execute_result"
    }
   ],
   "source": [
    "df.head()"
   ]
  },
  {
   "cell_type": "code",
   "execution_count": 61,
   "id": "88e88651-2562-4b77-a606-49a20877703a",
   "metadata": {},
   "outputs": [],
   "source": [
    "# standardize the features\n",
    "X = df.select_dtypes(include='number')\n",
    "scaler = StandardScaler()\n",
    "X_scaled = scaler.fit_transform(X)"
   ]
  },
  {
   "cell_type": "code",
   "execution_count": 62,
   "id": "afa3d90a-ee90-40c4-b6ed-0426ae7076c6",
   "metadata": {},
   "outputs": [
    {
     "name": "stdout",
     "output_type": "stream",
     "text": [
      "k = 2, Silhouette Score = 0.3501\n",
      "k = 3, Silhouette Score = 0.2344\n",
      "k = 4, Silhouette Score = 0.2416\n",
      "k = 5, Silhouette Score = 0.1921\n",
      "k = 6, Silhouette Score = 0.2789\n"
     ]
    },
    {
     "name": "stderr",
     "output_type": "stream",
     "text": [
      "D:\\Users\\Administrator\\anaconda3\\Lib\\site-packages\\sklearn\\cluster\\_kmeans.py:1429: UserWarning: KMeans is known to have a memory leak on Windows with MKL, when there are less chunks than available threads. You can avoid it by setting the environment variable OMP_NUM_THREADS=2.\n",
      "  warnings.warn(\n",
      "D:\\Users\\Administrator\\anaconda3\\Lib\\site-packages\\sklearn\\cluster\\_kmeans.py:1429: UserWarning: KMeans is known to have a memory leak on Windows with MKL, when there are less chunks than available threads. You can avoid it by setting the environment variable OMP_NUM_THREADS=2.\n",
      "  warnings.warn(\n",
      "D:\\Users\\Administrator\\anaconda3\\Lib\\site-packages\\sklearn\\cluster\\_kmeans.py:1429: UserWarning: KMeans is known to have a memory leak on Windows with MKL, when there are less chunks than available threads. You can avoid it by setting the environment variable OMP_NUM_THREADS=2.\n",
      "  warnings.warn(\n",
      "D:\\Users\\Administrator\\anaconda3\\Lib\\site-packages\\sklearn\\cluster\\_kmeans.py:1429: UserWarning: KMeans is known to have a memory leak on Windows with MKL, when there are less chunks than available threads. You can avoid it by setting the environment variable OMP_NUM_THREADS=2.\n",
      "  warnings.warn(\n",
      "D:\\Users\\Administrator\\anaconda3\\Lib\\site-packages\\sklearn\\cluster\\_kmeans.py:1429: UserWarning: KMeans is known to have a memory leak on Windows with MKL, when there are less chunks than available threads. You can avoid it by setting the environment variable OMP_NUM_THREADS=2.\n",
      "  warnings.warn(\n"
     ]
    }
   ],
   "source": [
    "# Silhouette method\n",
    "sil = []\n",
    "\n",
    "# Perform a K-Means analysis, k ranging from 2 to 6\n",
    "for k in range(2, 7):\n",
    "    kmeans = KMeans(n_clusters = k).fit(X_scaled)\n",
    "    labels = kmeans.labels_\n",
    "    score = silhouette_score(X_scaled, labels, metric = 'euclidean')\n",
    "    sil.append(score)\n",
    "    print(f\"k = {k}, Silhouette Score = {score:.4f}\")"
   ]
  },
  {
   "cell_type": "code",
   "execution_count": 63,
   "id": "c593724f-f9b8-4c8d-bf5e-35d24194b625",
   "metadata": {},
   "outputs": [
    {
     "name": "stderr",
     "output_type": "stream",
     "text": [
      "D:\\Users\\Administrator\\anaconda3\\Lib\\site-packages\\sklearn\\cluster\\_kmeans.py:1429: UserWarning: KMeans is known to have a memory leak on Windows with MKL, when there are less chunks than available threads. You can avoid it by setting the environment variable OMP_NUM_THREADS=2.\n",
      "  warnings.warn(\n"
     ]
    }
   ],
   "source": [
    "# choose k=2\n",
    "best_k = 2\n",
    "kmeans = KMeans(n_clusters=best_k, random_state=0)\n",
    "df['kmeans_cluster'] = kmeans.fit_predict(X_scaled)"
   ]
  },
  {
   "cell_type": "code",
   "execution_count": 64,
   "id": "44c58f2c-f634-411e-ab81-f882ff0c4ff7",
   "metadata": {},
   "outputs": [
    {
     "name": "stdout",
     "output_type": "stream",
     "text": [
      "Mean values of all features in each cluster for the optimal clustering:\n",
      "                    crim         zn      indus      chas       nox        rm  \\\n",
      "kmeans_cluster                                                                 \n",
      "0               0.263946  17.477204   6.919818  0.069909  0.487215  6.456544   \n",
      "1               9.839575   0.000000  18.975085  0.067797  0.680124  5.965096   \n",
      "\n",
      "                      age       dis        rad         tax    ptratio  \\\n",
      "kmeans_cluster                                                          \n",
      "0               56.382067  4.751124   4.474164  302.209726  17.818237   \n",
      "1               91.238418  2.017920  18.983051  605.316384  19.640113   \n",
      "\n",
      "                         b      lstat       medv  \n",
      "kmeans_cluster                                    \n",
      "0               386.643891   9.417812  25.782067  \n",
      "1               300.967345  18.666610  16.493220  \n"
     ]
    }
   ],
   "source": [
    "# mean values of all features in each cluster for the optimal clustering\n",
    "cluster_means = df.groupby('kmeans_cluster').mean()\n",
    "print(\"Mean values of all features in each cluster for the optimal clustering:\")\n",
    "print(cluster_means)"
   ]
  },
  {
   "cell_type": "code",
   "execution_count": 65,
   "id": "c8929931-20c7-4d2f-82fc-eee37579afd3",
   "metadata": {},
   "outputs": [
    {
     "name": "stdout",
     "output_type": "stream",
     "text": [
      "The centroid coordinateMean values in each cluster:\n",
      "       crim        zn     indus      chas       nox        rm       age  \\\n",
      "0 -0.389801  0.262392 -0.615294  0.002912 -0.582916  0.244913 -0.433584   \n",
      "1  0.724546 -0.487722  1.143682 -0.005412  1.083499 -0.455233  0.805928   \n",
      "\n",
      "        dis       rad       tax   ptratio         b     lstat      medv  \n",
      "0  0.454491 -0.583452 -0.629727 -0.294662  0.328600 -0.453497  0.353641  \n",
      "1 -0.844789  1.084495  1.170509  0.547705 -0.610788  0.842942 -0.657333  \n"
     ]
    }
   ],
   "source": [
    "# the centroid coordinates in scaled space\n",
    "centroids = pd.DataFrame(\n",
    "    kmeans.cluster_centers_,\n",
    "    columns=X.columns\n",
    ")\n",
    "print(\"The centroid coordinateMean values in each cluster:\")\n",
    "print(centroids)"
   ]
  },
  {
   "cell_type": "code",
   "execution_count": 66,
   "id": "5f68d820-2403-4610-85d6-9d6c2120ecc5",
   "metadata": {},
   "outputs": [
    {
     "name": "stdout",
     "output_type": "stream",
     "text": [
      "Mean values of all features in each cluster vs. Centroid coordinates (in scaled space):\n",
      "                       crim         zn      indus      chas       nox  \\\n",
      "cluster0_mean      0.263946  17.477204   6.919818  0.069909  0.487215   \n",
      "cluster1_mean      9.839575   0.000000  18.975085  0.067797  0.680124   \n",
      "cluster0_centroid -0.389801   0.262392  -0.615294  0.002912 -0.582916   \n",
      "cluster1_centroid  0.724546  -0.487722   1.143682 -0.005412  1.083499   \n",
      "\n",
      "                         rm        age       dis        rad         tax  \\\n",
      "cluster0_mean      6.456544  56.382067  4.751124   4.474164  302.209726   \n",
      "cluster1_mean      5.965096  91.238418  2.017920  18.983051  605.316384   \n",
      "cluster0_centroid  0.244913  -0.433584  0.454491  -0.583452   -0.629727   \n",
      "cluster1_centroid -0.455233   0.805928 -0.844789   1.084495    1.170509   \n",
      "\n",
      "                     ptratio           b      lstat       medv  \n",
      "cluster0_mean      17.818237  386.643891   9.417812  25.782067  \n",
      "cluster1_mean      19.640113  300.967345  18.666610  16.493220  \n",
      "cluster0_centroid  -0.294662    0.328600  -0.453497   0.353641  \n",
      "cluster1_centroid   0.547705   -0.610788   0.842942  -0.657333  \n"
     ]
    }
   ],
   "source": [
    "# compare the means and the centroid coordinates in scaled space\n",
    "cluster_means.index = [f'cluster{i}_mean' for i in range(kmeans.n_clusters)]\n",
    "centroids.index = [f'cluster{i}_centroid' for i in range(kmeans.n_clusters)]\n",
    "comparison_df = pd.concat([cluster_means, centroids])\n",
    "print(\"Mean values of all features in each cluster vs. Centroid coordinates (in scaled space):\")\n",
    "print(comparison_df)"
   ]
  },
  {
   "cell_type": "code",
   "execution_count": 67,
   "id": "236bcd6b-1e00-40f3-9917-8c91926c7b70",
   "metadata": {},
   "outputs": [
    {
     "name": "stdout",
     "output_type": "stream",
     "text": [
      "The centroid coordinateMean values (in original space) in each cluster:\n",
      "       crim            zn      indus      chas       nox        rm        age  \\\n",
      "0  0.263946  1.747720e+01   6.919818  0.069909  0.487215  6.456544  56.382067   \n",
      "1  9.839575  1.243450e-14  18.975085  0.067797  0.680124  5.965096  91.238418   \n",
      "\n",
      "        dis        rad         tax    ptratio           b      lstat  \\\n",
      "0  4.751124   4.474164  302.209726  17.818237  386.643891   9.417812   \n",
      "1  2.017920  18.983051  605.316384  19.640113  300.967345  18.666610   \n",
      "\n",
      "        medv  \n",
      "0  25.782067  \n",
      "1  16.493220  \n"
     ]
    }
   ],
   "source": [
    "# the centroid coordinates in original cluster\n",
    "centroids_original = pd.DataFrame(\n",
    "    scaler.inverse_transform(kmeans.cluster_centers_),\n",
    "    columns=X.columns\n",
    ")\n",
    "print(\"The centroid coordinateMean values (in original space) in each cluster:\")\n",
    "print(centroids_original)"
   ]
  },
  {
   "cell_type": "code",
   "execution_count": 68,
   "id": "bfd0f9d7-55c9-482a-aa07-080b63a94269",
   "metadata": {},
   "outputs": [
    {
     "name": "stdout",
     "output_type": "stream",
     "text": [
      "Mean values of all features in each cluster vs. Centroid coordinates (in original space):\n",
      "                       crim            zn      indus      chas       nox  \\\n",
      "cluster0_mean      0.263946  1.747720e+01   6.919818  0.069909  0.487215   \n",
      "cluster1_mean      9.839575  0.000000e+00  18.975085  0.067797  0.680124   \n",
      "cluster0_centroid  0.263946  1.747720e+01   6.919818  0.069909  0.487215   \n",
      "cluster1_centroid  9.839575  1.243450e-14  18.975085  0.067797  0.680124   \n",
      "\n",
      "                         rm        age       dis        rad         tax  \\\n",
      "cluster0_mean      6.456544  56.382067  4.751124   4.474164  302.209726   \n",
      "cluster1_mean      5.965096  91.238418  2.017920  18.983051  605.316384   \n",
      "cluster0_centroid  6.456544  56.382067  4.751124   4.474164  302.209726   \n",
      "cluster1_centroid  5.965096  91.238418  2.017920  18.983051  605.316384   \n",
      "\n",
      "                     ptratio           b      lstat       medv  \n",
      "cluster0_mean      17.818237  386.643891   9.417812  25.782067  \n",
      "cluster1_mean      19.640113  300.967345  18.666610  16.493220  \n",
      "cluster0_centroid  17.818237  386.643891   9.417812  25.782067  \n",
      "cluster1_centroid  19.640113  300.967345  18.666610  16.493220  \n",
      "\n",
      "Absolute difference between cluster means and centroid coordinates:\n",
      "                       crim            zn         indus          chas  nox  \\\n",
      "diff_cluster0  6.106227e-16  3.552714e-15  3.552714e-15  6.938894e-17  0.0   \n",
      "diff_cluster1  1.776357e-15  1.243450e-14  1.065814e-14  5.551115e-17  0.0   \n",
      "\n",
      "                rm  age           dis           rad           tax  \\\n",
      "diff_cluster0  0.0  0.0  8.881784e-16  8.881784e-16  0.000000e+00   \n",
      "diff_cluster1  0.0  0.0  0.000000e+00  7.105427e-15  6.821210e-13   \n",
      "\n",
      "                    ptratio    b         lstat          medv  \n",
      "diff_cluster0  0.000000e+00  0.0  0.000000e+00  3.552714e-15  \n",
      "diff_cluster1  3.552714e-15  0.0  7.105427e-15  0.000000e+00  \n"
     ]
    }
   ],
   "source": [
    "# compare the means and the centroid coordinates in original cluster\n",
    "cluster_means.index = [f'cluster{i}_mean' for i in range(kmeans.n_clusters)]\n",
    "centroids_original.index = [f'cluster{i}_centroid' for i in range(kmeans.n_clusters)]\n",
    "comparison_df = pd.concat([cluster_means, centroids_original])\n",
    "print(\"Mean values of all features in each cluster vs. Centroid coordinates (in original space):\")\n",
    "print(comparison_df)\n",
    "\n",
    "# calculate the difference between the means and the centroid coordinates\n",
    "difference_df = cluster_means.values - centroids_original.values\n",
    "difference_df = pd.DataFrame(difference_df, columns=cluster_means.columns)\n",
    "difference_df.index = [f'diff_cluster{i}' for i in range(kmeans.n_clusters)]\n",
    "print(\"\\nAbsolute difference between cluster means and centroid coordinates:\")\n",
    "print(difference_df.abs())"
   ]
  },
  {
   "cell_type": "markdown",
   "id": "682473fc-5145-4268-b823-1d9c6b5b7825",
   "metadata": {},
   "source": [
    "## Problem 3"
   ]
  },
  {
   "cell_type": "code",
   "execution_count": 69,
   "id": "5d624f9c-f87a-47d3-b300-bd801155d2ac",
   "metadata": {},
   "outputs": [],
   "source": [
    "# import dataset\n",
    "wine = load_wine()\n",
    "X = pd.DataFrame(wine.data, columns=wine.feature_names)\n",
    "y = wine.target"
   ]
  },
  {
   "cell_type": "code",
   "execution_count": 70,
   "id": "a7770fc3-c12b-4a96-9432-c03ae3ba7c2a",
   "metadata": {},
   "outputs": [],
   "source": [
    "# standardize the numerical features\n",
    "scaler = StandardScaler()\n",
    "X_scaled = scaler.fit_transform(X)"
   ]
  },
  {
   "cell_type": "code",
   "execution_count": 71,
   "id": "155c6358-e803-4ce1-8c2d-1f96d881a904",
   "metadata": {},
   "outputs": [
    {
     "name": "stderr",
     "output_type": "stream",
     "text": [
      "D:\\Users\\Administrator\\anaconda3\\Lib\\site-packages\\sklearn\\cluster\\_kmeans.py:1429: UserWarning: KMeans is known to have a memory leak on Windows with MKL, when there are less chunks than available threads. You can avoid it by setting the environment variable OMP_NUM_THREADS=1.\n",
      "  warnings.warn(\n"
     ]
    }
   ],
   "source": [
    "# Perform a K-Means analysis, k=3\n",
    "kmeans = KMeans(n_clusters=3, random_state=0)\n",
    "labels = kmeans.fit_predict(X_scaled)"
   ]
  },
  {
   "cell_type": "code",
   "execution_count": 72,
   "id": "988fd51d-937d-43d5-bc00-72304069c974",
   "metadata": {},
   "outputs": [],
   "source": [
    "# calculate the Homogeneity/Completeness\n",
    "homogeneity = homogeneity_score(y, labels)\n",
    "completeness = completeness_score(y, labels)"
   ]
  },
  {
   "cell_type": "code",
   "execution_count": 73,
   "id": "64ca2f22-e39e-499b-8f32-fce554ebbaff",
   "metadata": {},
   "outputs": [
    {
     "data": {
      "text/plain": [
       "0.8788432003662366"
      ]
     },
     "execution_count": 73,
     "metadata": {},
     "output_type": "execute_result"
    }
   ],
   "source": [
    "homogeneity"
   ]
  },
  {
   "cell_type": "code",
   "execution_count": 74,
   "id": "e7f16a84-328c-4514-88f9-57342108eb38",
   "metadata": {
    "scrolled": true
   },
   "outputs": [
    {
     "data": {
      "text/plain": [
       "0.8729636016078731"
      ]
     },
     "execution_count": 74,
     "metadata": {},
     "output_type": "execute_result"
    }
   ],
   "source": [
    "completeness"
   ]
  }
 ],
 "metadata": {
  "kernelspec": {
   "display_name": "Python 3 (ipykernel)",
   "language": "python",
   "name": "python3"
  },
  "language_info": {
   "codemirror_mode": {
    "name": "ipython",
    "version": 3
   },
   "file_extension": ".py",
   "mimetype": "text/x-python",
   "name": "python",
   "nbconvert_exporter": "python",
   "pygments_lexer": "ipython3",
   "version": "3.12.7"
  }
 },
 "nbformat": 4,
 "nbformat_minor": 5
}
